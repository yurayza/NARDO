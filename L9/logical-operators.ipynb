{
 "cells": [
  {
   "cell_type": "markdown",
   "id": "7cf54071",
   "metadata": {},
   "source": [
    "# Logical Operators <hr style =\"boarder: 2.5px solid #FFC0CB \"> </hr>"
   ]
  },
  {
   "cell_type": "markdown",
   "id": "fc913c27",
   "metadata": {},
   "source": [
    "Data Analyst: Sheny Uriza Mae C. Nardo <br>\n",
    "Department: Electrical Engineering"
   ]
  },
  {
   "cell_type": "markdown",
   "id": "69b3a8a7",
   "metadata": {},
   "source": [
    "# Logical AND"
   ]
  },
  {
   "cell_type": "code",
   "execution_count": null,
   "id": "d51d22a5",
   "metadata": {},
   "outputs": [
    {
     "name": "stdout",
     "output_type": "stream",
     "text": [
      "both are true\n"
     ]
    }
   ],
   "source": [
    "# a AND b must be true\n",
    "a = True\n",
    "b = True\n",
    "if a and b:\n",
    "    print(\"both are true\")\n",
    "elif not (a) and not (b):\n",
    "    print(\"\")\n",
    "else:\n",
    "    print(\" at least one is false\")"
   ]
  },
  {
   "cell_type": "code",
   "execution_count": 22,
   "id": "0dc1f439",
   "metadata": {},
   "outputs": [
    {
     "name": "stdout",
     "output_type": "stream",
     "text": [
      "35 is out of range\n"
     ]
    }
   ],
   "source": [
    "# check if a is within range 1 to 30\n",
    "a = 35\n",
    "\n",
    "if a> 0 and a <= 10:\n",
    "    print(stra(a)) + (\"is within the range of 1 to 10.\")\n",
    "elif (a > 10) and (a<=20):\n",
    "    print(stra(a)) + (\"is within the range of 11 to 20\")\n",
    "elif (a > 20) and (a <= 30):\n",
    "    print(stra(a)) + (\"is within the range of 21 to 30.\")\n",
    "else:\n",
    "    print(str(a) + \" is out of range\")\n"
   ]
  },
  {
   "cell_type": "markdown",
   "id": "b0574b4a",
   "metadata": {},
   "source": [
    "# Logical OR"
   ]
  },
  {
   "cell_type": "code",
   "execution_count": 24,
   "id": "5633de01",
   "metadata": {},
   "outputs": [
    {
     "name": "stdout",
     "output_type": "stream",
     "text": [
      "both are false\n"
     ]
    }
   ],
   "source": [
    "# either a OR b is True\n",
    "a = False\n",
    "b = False\n",
    "\n",
    "if a or b:\n",
    "    print(\"at least one is true\")\n",
    "else:\n",
    "    print(\"both are false\")"
   ]
  },
  {
   "cell_type": "code",
   "execution_count": 14,
   "id": "644ba2b1",
   "metadata": {},
   "outputs": [
    {
     "name": "stdout",
     "output_type": "stream",
     "text": [
      "Bring an umbrella or stay indoors!\n"
     ]
    }
   ],
   "source": [
    "# Go outside or stay indoors\n",
    "weather = \"rainy\"\n",
    "\n",
    "if(weather == 'rainy')or (weather == 'stormy'):\n",
    "    print(\"Bring an umbrella or stay indoors!\")\n",
    "elif(weather == 'sunny')or (weather == 'clear'):\n",
    "    print(\"It's a great day to go outside\")\n",
    "else:\n",
    "    print(\"The weather is unpredictable today\")"
   ]
  },
  {
   "cell_type": "code",
   "execution_count": 25,
   "id": "9d4eb59d",
   "metadata": {},
   "outputs": [
    {
     "data": {
      "text/plain": [
       "True"
      ]
     },
     "execution_count": 25,
     "metadata": {},
     "output_type": "execute_result"
    }
   ],
   "source": [
    "# negate the logicaln state\n",
    "a = False\n",
    "not a"
   ]
  },
  {
   "cell_type": "markdown",
   "id": "59e1ca08",
   "metadata": {},
   "source": [
    "# Logical NOT"
   ]
  },
  {
   "cell_type": "code",
   "execution_count": 26,
   "id": "01855496",
   "metadata": {},
   "outputs": [
    {
     "name": "stdout",
     "output_type": "stream",
     "text": [
      "9 is odd\n"
     ]
    }
   ],
   "source": [
    "# odd or even number\n",
    "a = 9\n",
    "if a % 2 == 0:\n",
    "    print(str(a) + \" is even\")\n",
    "else:\n",
    "    print(str(a) + \" is odd\")"
   ]
  }
 ],
 "metadata": {
  "kernelspec": {
   "display_name": "Python 3",
   "language": "python",
   "name": "python3"
  },
  "language_info": {
   "codemirror_mode": {
    "name": "ipython",
    "version": 3
   },
   "file_extension": ".py",
   "mimetype": "text/x-python",
   "name": "python",
   "nbconvert_exporter": "python",
   "pygments_lexer": "ipython3",
   "version": "3.13.3"
  }
 },
 "nbformat": 4,
 "nbformat_minor": 5
}
