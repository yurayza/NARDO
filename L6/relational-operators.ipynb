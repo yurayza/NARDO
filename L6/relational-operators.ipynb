{
 "cells": [
  {
   "cell_type": "markdown",
   "id": "f0d9bda9",
   "metadata": {},
   "source": [
    "# Relational Operators <hr style =\"boarder: 2.5px solid #FFC0CB \"> </hr>"
   ]
  },
  {
   "cell_type": "markdown",
   "id": "c0e94aa1",
   "metadata": {},
   "source": [
    "Data Analyst: Sheny Uriza Mae C. Nardo <br>\n",
    "Department: Electrical Engineering\n"
   ]
  },
  {
   "cell_type": "markdown",
   "id": "ecc83be2",
   "metadata": {},
   "source": [
    "# Equal to"
   ]
  },
  {
   "cell_type": "code",
   "execution_count": 1,
   "id": "933035ae",
   "metadata": {},
   "outputs": [
    {
     "data": {
      "text/plain": [
       "True"
      ]
     },
     "execution_count": 1,
     "metadata": {},
     "output_type": "execute_result"
    }
   ],
   "source": [
    "a = 5\n",
    "b = 5\n",
    "a == b"
   ]
  },
  {
   "cell_type": "code",
   "execution_count": 2,
   "id": "ca1fe2df",
   "metadata": {},
   "outputs": [
    {
     "data": {
      "text/plain": [
       "False"
      ]
     },
     "execution_count": 2,
     "metadata": {},
     "output_type": "execute_result"
    }
   ],
   "source": [
    "a = 0\n",
    "b = 5\n",
    "a == b"
   ]
  },
  {
   "cell_type": "markdown",
   "id": "09d0bd63",
   "metadata": {},
   "source": [
    "# Not equal to"
   ]
  },
  {
   "cell_type": "code",
   "execution_count": 3,
   "id": "d9de6627",
   "metadata": {},
   "outputs": [
    {
     "data": {
      "text/plain": [
       "False"
      ]
     },
     "execution_count": 3,
     "metadata": {},
     "output_type": "execute_result"
    }
   ],
   "source": [
    "a = 5\n",
    "b = 5\n",
    "a != b"
   ]
  },
  {
   "cell_type": "code",
   "execution_count": 4,
   "id": "37e06601",
   "metadata": {},
   "outputs": [
    {
     "data": {
      "text/plain": [
       "True"
      ]
     },
     "execution_count": 4,
     "metadata": {},
     "output_type": "execute_result"
    }
   ],
   "source": [
    "a = 0\n",
    "b = 5\n",
    "a != b"
   ]
  },
  {
   "cell_type": "markdown",
   "id": "b5496427",
   "metadata": {},
   "source": [
    "# Greater than"
   ]
  },
  {
   "cell_type": "code",
   "execution_count": 5,
   "id": "9230d1c1",
   "metadata": {},
   "outputs": [
    {
     "data": {
      "text/plain": [
       "True"
      ]
     },
     "execution_count": 5,
     "metadata": {},
     "output_type": "execute_result"
    }
   ],
   "source": [
    "a = 5\n",
    "b = 0\n",
    "a > b"
   ]
  },
  {
   "cell_type": "code",
   "execution_count": 6,
   "id": "b1090986",
   "metadata": {},
   "outputs": [
    {
     "data": {
      "text/plain": [
       "False"
      ]
     },
     "execution_count": 6,
     "metadata": {},
     "output_type": "execute_result"
    }
   ],
   "source": [
    "a = 0\n",
    "b = 5\n",
    "a > b"
   ]
  },
  {
   "cell_type": "markdown",
   "id": "28ae5f2c",
   "metadata": {},
   "source": [
    "# Less than"
   ]
  },
  {
   "cell_type": "code",
   "execution_count": 7,
   "id": "a94445cb",
   "metadata": {},
   "outputs": [
    {
     "data": {
      "text/plain": [
       "False"
      ]
     },
     "execution_count": 7,
     "metadata": {},
     "output_type": "execute_result"
    }
   ],
   "source": [
    "a = 5 \n",
    "b = 0\n",
    "a < b"
   ]
  },
  {
   "cell_type": "code",
   "execution_count": 8,
   "id": "e74c37bf",
   "metadata": {},
   "outputs": [
    {
     "data": {
      "text/plain": [
       "True"
      ]
     },
     "execution_count": 8,
     "metadata": {},
     "output_type": "execute_result"
    }
   ],
   "source": [
    "a = 0\n",
    "b = 5\n",
    "a < b"
   ]
  }
 ],
 "metadata": {
  "kernelspec": {
   "display_name": "Python 3",
   "language": "python",
   "name": "python3"
  },
  "language_info": {
   "codemirror_mode": {
    "name": "ipython",
    "version": 3
   },
   "file_extension": ".py",
   "mimetype": "text/x-python",
   "name": "python",
   "nbconvert_exporter": "python",
   "pygments_lexer": "ipython3",
   "version": "3.13.3"
  }
 },
 "nbformat": 4,
 "nbformat_minor": 5
}
