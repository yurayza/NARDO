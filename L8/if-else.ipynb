{
 "cells": [
  {
   "cell_type": "markdown",
   "id": "c4283962",
   "metadata": {},
   "source": [
    "# if-else statement <hr style =\"boarder: 2.5px solid #FFC0CB \"> </hr>"
   ]
  },
  {
   "cell_type": "markdown",
   "id": "0041a206",
   "metadata": {},
   "source": [
    "Data Analyst: Sheny Uriza Mae C. Nardo <br>\n",
    "Department: Electrical Engineering\n"
   ]
  },
  {
   "cell_type": "markdown",
   "id": "44ca8dcc",
   "metadata": {},
   "source": [
    "# if statement"
   ]
  },
  {
   "cell_type": "code",
   "execution_count": 18,
   "id": "0562607a",
   "metadata": {},
   "outputs": [
    {
     "name": "stdout",
     "output_type": "stream",
     "text": [
      "pasar ko!\n"
     ]
    }
   ],
   "source": [
    "# passing score is 5.0\n",
    "grade = 5.1\n",
    "if grade >= 5.0:\n",
    "    print(\"pasar ko!\")\n",
    "\n"
   ]
  },
  {
   "cell_type": "code",
   "execution_count": 17,
   "id": "fbfba9a3",
   "metadata": {},
   "outputs": [
    {
     "name": "stdout",
     "output_type": "stream",
     "text": [
      "pasar ko!\n"
     ]
    }
   ],
   "source": [
    "# two statements are evaluated\n",
    "grade = 7.5\n",
    "\n",
    "# evaluate grade \n",
    "if grade >= 5.0:\n",
    "    print(\"pasar ko!\")\n",
    "\n",
    "if grade < 5.0:\n",
    "    print(\"FAILED\")"
   ]
  },
  {
   "cell_type": "markdown",
   "id": "3cbae9c0",
   "metadata": {},
   "source": [
    "# if-else statement"
   ]
  },
  {
   "cell_type": "code",
   "execution_count": 10,
   "id": "ed054b3d",
   "metadata": {},
   "outputs": [
    {
     "name": "stdout",
     "output_type": "stream",
     "text": [
      "FAILED!\n"
     ]
    }
   ],
   "source": [
    "# if grade >= 5.0 is True, 'else' will not be evaluated\n",
    "grade = 4.0\n",
    "\n",
    "# evaluate grade\n",
    "if grade >= 5.0:\n",
    "    print(\"pasar ko!\")\n",
    "else:\n",
    "    print(\"FAILED!\")"
   ]
  },
  {
   "cell_type": "markdown",
   "id": "752fb9e9",
   "metadata": {},
   "source": [
    "# if-elif-else statement"
   ]
  },
  {
   "cell_type": "code",
   "execution_count": 11,
   "id": "378c1c80",
   "metadata": {},
   "outputs": [
    {
     "name": "stdout",
     "output_type": "stream",
     "text": [
      "FAILED!\n"
     ]
    }
   ],
   "source": [
    "# if grade >= 5.0 is True, 'others' will be evaluated\n",
    "grade = 2.9\n",
    "\n",
    "# evaluate grade\n",
    "if grade >= 5.0:\n",
    "    print(\"pasar ko!\")\n",
    "elif grade < 5.0:\n",
    "    print(\"FAILED!\")\n",
    "elif grade < 3.0:\n",
    "    print(\"DISMISSED!\")\n",
    "else:\n",
    "    print(\"INVALID!\")\n",
    "\n",
    " "
   ]
  },
  {
   "cell_type": "code",
   "execution_count": 14,
   "id": "087fc29b",
   "metadata": {},
   "outputs": [
    {
     "name": "stdout",
     "output_type": "stream",
     "text": [
      "DISMISSED!\n"
     ]
    }
   ],
   "source": [
    "# if grade  >= 5.0 is True, 'others' will not be evaluated\n",
    "grade = 2.9\n",
    "\n",
    "# evaluate grade\n",
    "if grade >=5.0:\n",
    "    print(\"pasar ko!\")\n",
    "elif grade < 3.0: # < 3.8 evaluated first\n",
    "    print(\"DISMISSED!\")\n",
    "elif grade < 5.0:\n",
    "    print(\"FAILED!\")\n",
    "else:\n",
    "    print(\"INVALID!\")\n",
    "\n",
    " "
   ]
  }
 ],
 "metadata": {
  "kernelspec": {
   "display_name": "Python 3",
   "language": "python",
   "name": "python3"
  },
  "language_info": {
   "codemirror_mode": {
    "name": "ipython",
    "version": 3
   },
   "file_extension": ".py",
   "mimetype": "text/x-python",
   "name": "python",
   "nbconvert_exporter": "python",
   "pygments_lexer": "ipython3",
   "version": "3.13.3"
  }
 },
 "nbformat": 4,
 "nbformat_minor": 5
}
